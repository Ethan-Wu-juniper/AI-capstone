{
  "cells": [
    {
      "cell_type": "markdown",
      "metadata": {
        "id": "OTxZvq0ifqf3"
      },
      "source": [
        "# Public non-image dataset"
      ]
    },
    {
      "cell_type": "code",
      "execution_count": null,
      "metadata": {
        "colab": {
          "base_uri": "https://localhost:8080/"
        },
        "id": "0N0s3dHemW2A",
        "outputId": "6942d45c-76a1-41e5-eb26-5befdb7365d3"
      },
      "outputs": [],
      "source": [
        "from google.colab import drive\n",
        "drive.mount('/content/drive')"
      ]
    },
    {
      "cell_type": "code",
      "execution_count": null,
      "metadata": {
        "id": "dV2z01ZHwt2m"
      },
      "outputs": [],
      "source": [
        "import pandas as pd\n",
        "import numpy as np\n",
        "from sklearn.model_selection import train_test_split, KFold\n",
        "from sklearn import preprocessing\n",
        "from sklearn.metrics import *\n",
        "from sklearn import tree\n",
        "from sklearn.ensemble import RandomForestClassifier\n",
        "from sklearn.naive_bayes import *\n",
        "from sklearn.preprocessing import OneHotEncoder\n",
        "import matplotlib.pyplot as plt\n",
        "import seaborn as sb"
      ]
    },
    {
      "cell_type": "markdown",
      "metadata": {
        "id": "LVj0moG6dPyM"
      },
      "source": [
        "### Variables"
      ]
    },
    {
      "cell_type": "code",
      "execution_count": null,
      "metadata": {
        "id": "ExHgAs-FdOa1"
      },
      "outputs": [],
      "source": [
        "bank = pd.read_csv('drive/MyDrive/AI_1/bank.csv',sep=';')\n",
        "bank_a = pd.read_csv('drive/MyDrive/AI_1/bank-additional.csv',sep=';')\n",
        "bank_f = pd.read_csv('drive/MyDrive/AI_1/bank-full.csv',sep=';')\n",
        "bank_af = pd.read_csv('drive/MyDrive/AI_1/bank-additional-full.csv',sep=';')\n",
        "data_list = [bank, bank_a, bank_f, bank_af]\n",
        "data_name = ['bank', 'bank-additional', 'bank-full', 'bank-additional-full']\n",
        "score_idx = ['acccuracy','precision (no)','precision (yes)','recall (no)','recall (yes)','f1 (no)','f1 (yes)','points']\n",
        "\n",
        "dec_tree = tree.DecisionTreeClassifier()\n",
        "rnd_forest = RandomForestClassifier()\n",
        "nb = GaussianNB()"
      ]
    },
    {
      "cell_type": "markdown",
      "metadata": {
        "id": "OEbp4OH-PmI5"
      },
      "source": [
        "### Data Checking & Visualization"
      ]
    },
    {
      "cell_type": "code",
      "execution_count": null,
      "metadata": {
        "id": "q2hcG8jUNoAp"
      },
      "outputs": [],
      "source": [
        "def null_check(data):\n",
        "  # check if there exist any null value \n",
        "  check = pd.isnull(data)\n",
        "  for key in check:\n",
        "    for i in check[key]:\n",
        "      if i == True:\n",
        "        return -1\n",
        "\n",
        "  return 0\n",
        "\n",
        "def visual(data,name):\n",
        "  Y = np.array(data['y'])\n",
        "\n",
        "  y_cnt = 0\n",
        "  n_cnt = 0\n",
        "  for i in Y:\n",
        "    if i == 'no':\n",
        "      n_cnt += 1\n",
        "    else:\n",
        "      y_cnt += 1\n",
        "\n",
        "  plt.figure(figsize=(5,5))\n",
        "  plt.bar([0,1],[n_cnt,y_cnt])\n",
        "  plt.xticks([0,1],['no','yes'])\n",
        "  plt.title('Label Count '+name,fontsize=20)\n",
        "  plt.show()"
      ]
    },
    {
      "cell_type": "code",
      "execution_count": null,
      "metadata": {
        "colab": {
          "base_uri": "https://localhost:8080/",
          "height": 1000
        },
        "id": "uEeQ1WoCOOOY",
        "outputId": "42124de8-8054-40d3-aff5-0b0e3793c525"
      },
      "outputs": [],
      "source": [
        "for d,n in zip(data_list,data_name):\n",
        "  flag = null_check(d)\n",
        "  if flag == -1:\n",
        "    print(data_name,': null detected')\n",
        "    break\n",
        "  visual(d,n)"
      ]
    },
    {
      "cell_type": "markdown",
      "metadata": {
        "id": "BmoG3LaNmA8e"
      },
      "source": [
        "### Data Preprocessing, Model Construction, Training & Aquiring Result"
      ]
    },
    {
      "cell_type": "code",
      "execution_count": null,
      "metadata": {
        "id": "1d8W4CWQjctm"
      },
      "outputs": [],
      "source": [
        "def preprocess(data,fit_data):\n",
        "  Y = np.array(data['y'])\n",
        "  data = data.drop(columns=['y'])\n",
        "  fit_data = fit_data.drop(columns=['y'])\n",
        "  # encode categorical attribute with OneHotEncoder\n",
        "  cat_idx = []\n",
        "  num_idx = []\n",
        "  for i,obj in enumerate(fit_data.loc[0]):\n",
        "    if type(obj) == type('string'):\n",
        "      cat_idx.append(fit_data.columns[i])\n",
        "    else:\n",
        "      num_idx.append(fit_data.columns[i])\n",
        "  enc = OneHotEncoder()\n",
        "  enc.fit(np.array(fit_data[cat_idx]))\n",
        "  encoded_data = enc.transform(np.array(data[cat_idx])).toarray()\n",
        "  # encoded_data = enc.fit_transform(np.array(data[cat_idx])).toarray()\n",
        "  data = np.hstack((np.array(data[num_idx]),encoded_data))\n",
        "\n",
        "  return Y, data\n",
        "\n",
        "def ML(data,clf,*args):\n",
        "  \n",
        "  if len(args) != 0:\n",
        "    train_data = args[0]\n",
        "  else:\n",
        "    train_data = data\n",
        "  # train_data = data\n",
        "  # print(len(train_data),len(data))\n",
        "  Y, data = preprocess(train_data,data)\n",
        "\n",
        "  # 3-fold cross validation\n",
        "  kf = KFold(n_splits=3,shuffle=True)\n",
        "  X_train = []\n",
        "  X_test = []\n",
        "  Y_train = []\n",
        "  Y_test = []\n",
        "  for train, test in kf.split(data):\n",
        "    X_train.append(data[train])\n",
        "    X_test.append(data[test])\n",
        "    Y_train.append(Y[train])\n",
        "    Y_test.append(Y[test])\n",
        "\n",
        "  # training and acquiring result\n",
        "  acc = 0\n",
        "  pre = [0,0]\n",
        "  rec = [0,0]\n",
        "  f1 = [0,0]\n",
        "  matrix = [[0,0],[0,0]]\n",
        "  for i in range(3):\n",
        "    clf.fit(X_train[i],Y_train[i])\n",
        "    result = clf.predict(X_test[i])\n",
        "    acc += accuracy_score(Y_test[i],result)\n",
        "    pre += precision_score(Y_test[i],result,average=None,labels=['no','yes'])\n",
        "    rec += recall_score(Y_test[i],result,average=None,labels=['no','yes'])\n",
        "    f1 += f1_score(Y_test[i],result,average=None,labels=['no','yes'])\n",
        "    matrix += confusion_matrix(Y_test[i],result,labels=['no','yes'])\n",
        "\n",
        "  # print('------------------------')\n",
        "  form = [[acc/3],[pre[0]/3],[pre[1]/3],[rec[0]/3],[rec[1]/3],[f1[0]/3],[f1[1]/3]]\n",
        "  return form, matrix\n",
        "  # display(form)\n",
        "  # print('------------------------------------')\n",
        "  # form = pd.DataFrame(matrix/3,columns=['predicted no','predicted yes'],index=['real no','real yes'])\n",
        "  # display(form)\n",
        "\n",
        "def Rank(scores):\n",
        "  point = [0 for i in range(len(scores[0])+1)]\n",
        "  for s in scores:\n",
        "    rank = sorted(range(len(s)),key = lambda k: s[k],reverse = True)\n",
        "    rank_str = ''\n",
        "    for i, r in enumerate(rank):\n",
        "      point[r] += len(s) - i - 1\n",
        "      rank_str += str(r) + '>' if r != rank[len(rank)-1] else str(r)\n",
        "    s.append(rank_str)\n",
        "  \n",
        "  rank = sorted(range(len(point)),key = lambda k: point[k],reverse = True)\n",
        "  rank_str = ''\n",
        "  for i in range(len(rank)-1):\n",
        "    rank_str += str(rank[i]) + '>' if i != len(rank)-2 else str(rank[i])\n",
        "  point[len(point)-1] = rank_str\n",
        "\n",
        "  for i in range(len(point)-1):\n",
        "    point[i] = str(point[i])\n",
        "  scores.append(point)"
      ]
    },
    {
      "cell_type": "markdown",
      "metadata": {
        "id": "F8dl9KqT2KAr"
      },
      "source": [
        "### Naive Bayes"
      ]
    },
    {
      "cell_type": "code",
      "execution_count": null,
      "metadata": {
        "colab": {
          "base_uri": "https://localhost:8080/",
          "height": 1000
        },
        "id": "52ayuBa42Jzu",
        "outputId": "95277fe1-9add-4aac-ad43-6da277f1b416"
      },
      "outputs": [],
      "source": [
        "matrics = []\n",
        "scores = [[] for i in range(7)]\n",
        "for d in data_list:\n",
        "  result = ML(d,nb)\n",
        "  scores = np.hstack((scores,result[0]))\n",
        "  matrics.append(result[1])\n",
        "\n",
        "# print(scores)\n",
        "scores = scores.tolist()\n",
        "Rank(scores)\n",
        "form = pd.DataFrame(scores,columns=data_name+['rank'],index=score_idx)\n",
        "display(form)\n",
        "\n",
        "for m, n in zip(matrics,data_name):\n",
        "  form = pd.DataFrame(m,['no','yes'],['no','yes'])\n",
        "  sb.heatmap(form,annot=True,fmt='d',linewidth=5,cmap='YlGnBu')\n",
        "  plt.xlabel('predicted')\n",
        "  plt.ylabel('real')\n",
        "  plt.title(n)\n",
        "  plt.show()"
      ]
    },
    {
      "cell_type": "markdown",
      "metadata": {
        "id": "6L-foCe9TKbm"
      },
      "source": [
        "### Decision Tree"
      ]
    },
    {
      "cell_type": "code",
      "execution_count": null,
      "metadata": {
        "colab": {
          "base_uri": "https://localhost:8080/",
          "height": 1000
        },
        "id": "L6MkD2X6ByfL",
        "outputId": "5dd82a96-18e6-4710-e920-f5f78c5bffcc"
      },
      "outputs": [],
      "source": [
        "matrics = []\n",
        "scores = [[] for i in range(7)]\n",
        "depth = []\n",
        "for d,n in zip(data_list,data_name):\n",
        "  result = ML(d,dec_tree)\n",
        "  scores = np.hstack((scores,result[0]))\n",
        "  matrics.append(result[1])\n",
        "  depth.append(dec_tree.get_depth())\n",
        "\n",
        "# print(scores)\n",
        "scores = scores.tolist()\n",
        "Rank(scores)\n",
        "form = pd.DataFrame(scores,columns=data_name+['rank'],index=score_idx)\n",
        "display(form)\n",
        "\n",
        "for m, n in zip(matrics,data_name):\n",
        "  form = pd.DataFrame(m,['no','yes'],['no','yes'])\n",
        "  sb.heatmap(form,annot=True,fmt='d',linewidth=5,cmap='YlGnBu')\n",
        "  plt.xlabel('predicted')\n",
        "  plt.ylabel('real')\n",
        "  plt.title(n)\n",
        "  plt.show()"
      ]
    },
    {
      "cell_type": "markdown",
      "metadata": {
        "id": "uuwmWV_2T4f2"
      },
      "source": [
        "### Random Forest"
      ]
    },
    {
      "cell_type": "code",
      "execution_count": null,
      "metadata": {
        "colab": {
          "base_uri": "https://localhost:8080/",
          "height": 1000
        },
        "id": "F6mQKs7bT6vn",
        "outputId": "5b03d972-5939-443a-b790-9f0ff3eb6ff5"
      },
      "outputs": [],
      "source": [
        "matrics = []\n",
        "scores = [[] for i in range(7)]\n",
        "for d in data_list:\n",
        "  result = ML(d,rnd_forest)\n",
        "  scores = np.hstack((scores,result[0]))\n",
        "  matrics.append(result[1])\n",
        "\n",
        "# print(scores)\n",
        "scores = scores.tolist()\n",
        "Rank(scores)\n",
        "form = pd.DataFrame(scores,columns=data_name+['rank'],index=score_idx)\n",
        "display(form)\n",
        "\n",
        "for m, n in zip(matrics,data_name):\n",
        "  form = pd.DataFrame(m,['no','yes'],['no','yes'])\n",
        "  sb.heatmap(form,annot=True,fmt='d',linewidth=5,cmap='YlGnBu')\n",
        "  plt.xlabel('predicted')\n",
        "  plt.ylabel('real')\n",
        "  plt.title(n)\n",
        "  plt.show()"
      ]
    },
    {
      "cell_type": "markdown",
      "metadata": {
        "id": "GOvEGsEE6_Gi"
      },
      "source": [
        "# Experiment"
      ]
    },
    {
      "cell_type": "markdown",
      "metadata": {
        "id": "o908KETi4c9F"
      },
      "source": [
        "### less layer for decision tree"
      ]
    },
    {
      "cell_type": "code",
      "execution_count": null,
      "metadata": {
        "colab": {
          "base_uri": "https://localhost:8080/"
        },
        "id": "jFdmS3dv4co7",
        "outputId": "18db6a2f-35d4-4b83-d10f-72c6e50e8f3b"
      },
      "outputs": [],
      "source": [
        "for i,n in enumerate(data_name):\n",
        "  print('depth of',n,':',depth[i])"
      ]
    },
    {
      "cell_type": "code",
      "execution_count": null,
      "metadata": {
        "colab": {
          "base_uri": "https://localhost:8080/",
          "height": 1000
        },
        "id": "EzYNR-G_83dQ",
        "outputId": "521cb169-e9be-451d-c7c6-39a75d5b3644"
      },
      "outputs": [],
      "source": [
        "DEPTH = [2,5,10,15,20,25,30,35]\n",
        "\n",
        "matrics = []\n",
        "scores = [[] for i in range(7)]\n",
        "for d in DEPTH:\n",
        "  clf = tree.DecisionTreeClassifier(max_depth=d)\n",
        "  result = ML(bank_f,clf)\n",
        "  scores = np.hstack((scores,result[0]))\n",
        "  matrics.append(result[1])\n",
        "\n",
        "scores = scores.tolist()\n",
        "Rank(scores)\n",
        "form = pd.DataFrame(scores,columns=['depth '+str(d) for d in DEPTH]+['rank'],index=score_idx)\n",
        "display(form)\n",
        "\n",
        "for m, n in zip(matrics,data_name):\n",
        "  form = pd.DataFrame(m,['no','yes'],['no','yes'])\n",
        "  sb.heatmap(form,annot=True,fmt='d',linewidth=5,cmap='YlGnBu')\n",
        "  plt.xlabel('predicted')\n",
        "  plt.ylabel('real')\n",
        "  plt.title(n)\n",
        "  plt.show()"
      ]
    },
    {
      "cell_type": "markdown",
      "metadata": {
        "id": "k3WjIyzBtwbI"
      },
      "source": [
        "### more trees in random forest"
      ]
    },
    {
      "cell_type": "code",
      "execution_count": null,
      "metadata": {
        "colab": {
          "base_uri": "https://localhost:8080/",
          "height": 1000
        },
        "id": "qzBKVszitwNw",
        "outputId": "eb7e1171-ae47-45df-cd10-998cafe53bce"
      },
      "outputs": [],
      "source": [
        "tree_num = [100,200,300,400]\n",
        "\n",
        "matrics = []\n",
        "scores = [[] for i in range(7)]\n",
        "for t in tree_num:\n",
        "  more_tree = RandomForestClassifier(n_estimators=t)\n",
        "  result = ML(bank_f,more_tree)\n",
        "  scores = np.hstack((scores,result[0]))\n",
        "  matrics.append(result[1])\n",
        "\n",
        "scores = scores.tolist()\n",
        "Rank(scores)\n",
        "form = pd.DataFrame(scores,columns=['tree_num '+str(t) for t in tree_num]+['rank'],index=score_idx)\n",
        "display(form)\n",
        "\n",
        "for m, n in zip(matrics,data_name):\n",
        "  form = pd.DataFrame(m,['no','yes'],['no','yes'])\n",
        "  sb.heatmap(form,annot=True,fmt='d',linewidth=5,cmap='YlGnBu')\n",
        "  plt.xlabel('predicted')\n",
        "  plt.ylabel('real')\n",
        "  plt.title(n)\n",
        "  plt.show()"
      ]
    },
    {
      "cell_type": "markdown",
      "metadata": {
        "id": "5sLCtK9F4i6T"
      },
      "source": [
        "### more balanced data"
      ]
    },
    {
      "cell_type": "code",
      "execution_count": null,
      "metadata": {
        "colab": {
          "base_uri": "https://localhost:8080/",
          "height": 582
        },
        "id": "ImUgr-BE4jID",
        "outputId": "2eaf3fa4-5da6-470d-ab00-e79be9b6d9d2"
      },
      "outputs": [],
      "source": [
        "# drop the original data with label 'no' until there exist same quantity of rows with different labels\n",
        "yn_cnt = bank_af['y'].value_counts()\n",
        "# balanced_data = bank_af.sort_values(by='y').reset_index(drop=True).drop(bank_af.index[0:yn_cnt['no']-yn_cnt['yes']]).reset_index(drop=True)\n",
        "# rest_data = bank_af.sort_values(by='y').reset_index(drop=True).drop(bank_af.index[yn_cnt['no']-yn_cnt['yes']:]).reset_index(drop=True)\n",
        "# all_data = pd.concat([balanced_data,rest_data],ignore_index=True)\n",
        "\n",
        "yes_data = bank_af.sort_values(by='y').reset_index(drop=True).drop(bank_af.index[0:yn_cnt['no']]).reset_index(drop=True)\n",
        "no_data = bank_af.sort_values(by='y').reset_index(drop=True).drop(bank_af.index[yn_cnt['no']:]).reset_index(drop=True)\n",
        "rnd_no = no_data.sample(n=yn_cnt['yes'])\n",
        "rest_data = no_data.drop(index=rnd_no.index)\n",
        "train_data = pd.concat([yes_data,no_data.sample(n=yn_cnt['yes'])],ignore_index=True)\n",
        "all_data = pd.concat([yes_data,no_data],ignore_index=True)\n",
        "\n",
        "model = RandomForestClassifier()\n",
        "\n",
        "matrics = []\n",
        "scores = [[] for i in range(7)]\n",
        "\n",
        "result = ML(all_data,model,train_data)\n",
        "# result = ML(all_data,model)\n",
        "scores = np.hstack((scores,result[0]))\n",
        "matrics.append(result[1])\n",
        "\n",
        "# print(scores)\n",
        "form = pd.DataFrame(scores,columns=['score'],index=score_idx[0:7])\n",
        "display(form)\n",
        "\n",
        "all_data = pd.concat([rest_data,train_data],ignore_index=True)\n",
        "y, x = preprocess(rest_data,all_data)\n",
        "print('-------------------------')\n",
        "print(model.score(x,y))\n",
        "\n",
        "for m, n in zip(matrics,data_name):\n",
        "  form = pd.DataFrame(m,['no','yes'],['no','yes'])\n",
        "  sb.heatmap(form,annot=True,fmt='d',linewidth=5,cmap='YlGnBu')\n",
        "  plt.xlabel('predicted')\n",
        "  plt.ylabel('real')\n",
        "  plt.title(n)\n",
        "  plt.show()\n",
        "# 一開始效果很差，我覺得應該是因為丟進去 train 的資料少了幾個 attribute，我想把資料再洗牌一下"
      ]
    }
  ],
  "metadata": {
    "colab": {
      "collapsed_sections": [],
      "name": "AI_project1(bank).ipynb",
      "provenance": []
    },
    "kernelspec": {
      "display_name": "Python 3",
      "name": "python3"
    },
    "language_info": {
      "name": "python"
    }
  },
  "nbformat": 4,
  "nbformat_minor": 0
}
